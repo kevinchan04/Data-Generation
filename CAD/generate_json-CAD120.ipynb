{
 "cells": [
  {
   "cell_type": "code",
   "execution_count": 1,
   "metadata": {},
   "outputs": [],
   "source": [
    "import numpy as np\n",
    "import pandas as pd"
   ]
  },
  {
   "cell_type": "code",
   "execution_count": 2,
   "metadata": {},
   "outputs": [],
   "source": [
    "data_dicts = r\"/home/ubuntu/PyTorch-YOLOv3/data/custom/images/CAD-120\""
   ]
  },
  {
   "cell_type": "code",
   "execution_count": 3,
   "metadata": {},
   "outputs": [],
   "source": [
    "import os\n",
    "anno_folder_list = [name for name in os.listdir(data_dicts) if name.endswith('annotations')]"
   ]
  },
  {
   "cell_type": "code",
   "execution_count": 4,
   "metadata": {},
   "outputs": [
    {
     "data": {
      "text/plain": [
       "['Subject1_annotations']"
      ]
     },
     "execution_count": 4,
     "metadata": {},
     "output_type": "execute_result"
    }
   ],
   "source": [
    "anno_folder_list"
   ]
  },
  {
   "cell_type": "markdown",
   "metadata": {},
   "source": [
    "All subjects are including ten high-level activities.\n",
    "\n",
    "So, it do not need the for loop."
   ]
  },
  {
   "cell_type": "code",
   "execution_count": 5,
   "metadata": {},
   "outputs": [],
   "source": [
    "high_level_activities_list = os.listdir(data_dicts + '/' + anno_folder_list[0])"
   ]
  },
  {
   "cell_type": "code",
   "execution_count": 6,
   "metadata": {},
   "outputs": [
    {
     "data": {
      "text/plain": [
       "['having_meal',\n",
       " 'unstacking_objects',\n",
       " 'microwaving_food',\n",
       " 'taking_medicine',\n",
       " 'cleaning_objects',\n",
       " 'taking_food',\n",
       " 'making_cereal',\n",
       " 'arranging_objects',\n",
       " 'picking_objects',\n",
       " 'stacking_objects']"
      ]
     },
     "execution_count": 6,
     "metadata": {},
     "output_type": "execute_result"
    }
   ],
   "source": [
    "high_level_activities_list"
   ]
  },
  {
   "cell_type": "code",
   "execution_count": 7,
   "metadata": {},
   "outputs": [],
   "source": [
    "dict_ten_digit = {} # The final output dictionary"
   ]
  },
  {
   "cell_type": "code",
   "execution_count": 8,
   "metadata": {
    "scrolled": false
   },
   "outputs": [],
   "source": [
    "label_paths = {}\n",
    "for Subject in anno_folder_list:\n",
    "    for high_level_activity in high_level_activities_list:\n",
    "        anno_files_folder = data_dicts + '/' + Subject + '/' + high_level_activity\n",
    "        \n",
    "        activityLabel = anno_files_folder + '/' + 'activityLabel.txt'\n",
    "        f = open(activityLabel, 'r')\n",
    "        my_txt = [txtline[:-1].split(',') for txtline in f.readlines()]\n",
    "        f.close()\n",
    "        for _list in my_txt:\n",
    "            ten_digit = _list[0]\n",
    "            activity_id = _list[1]\n",
    "            _img_folder_path = data_dicts + '/' + Subject[:8] + '_rgbd_images' + '/' + high_level_activity + '/' + ten_digit\n",
    "            dict_ten_digit[ten_digit] = {'img_folder_path' : _img_folder_path, \n",
    "                                         'activity_id' : activity_id}\n",
    "            _label_txt = anno_files_folder + '/' + ten_digit + '.txt'\n",
    "            try:\n",
    "                t = open(_label_txt, 'r')\n",
    "                t.close()\n",
    "            except:\n",
    "                continue\n",
    "            label_paths[ten_digit] = _label_txt"
   ]
  },
  {
   "cell_type": "markdown",
   "metadata": {},
   "source": [
    "Generate the dictionary which contains all data information"
   ]
  },
  {
   "cell_type": "markdown",
   "metadata": {},
   "source": [
    "dict_folders = {}#folder_ID:dict_folder\n",
    "\n",
    "dict_folder = {}#\n",
    "\n",
    "dict_frames = {}#frame_1:{dict_ROI, dict_P}, frame_2:{dict_ROI, dict_P},...,frame_ID:{dict_ROI, dict_P}\n",
    "\n",
    "dict_ROI = {}#{1:{orin, CONF},2:{},...,11:{}}\n",
    "\n",
    "dict_P = {}#{1:{coor, CONF},2:{},3:{},...15:{}}"
   ]
  },
  {
   "cell_type": "code",
   "execution_count": 9,
   "metadata": {},
   "outputs": [],
   "source": [
    "for i, path in enumerate(label_paths):\n",
    "    label_file = label_paths[path]\n",
    "    _txt = open(label_file, 'r')\n",
    "    my_txt = [txtline[:-1].split(',') for txtline in _txt.readlines()]\n",
    "    _txt.close()\n",
    "    dict_frames = {}\n",
    "    for _frame_data in my_txt[:-1]:\n",
    "        frame_ID = int(_frame_data.pop(0))\n",
    "        dict_ROI, dict_P = {}, {}\n",
    "        for times in range(15):\n",
    "            if times < 11:\n",
    "                ORI_i = []\n",
    "                for t in range(9):\n",
    "                    ORI_i.append(float(_frame_data.pop(0)))\n",
    "                ORI_i_CONF = int(_frame_data.pop(0))\n",
    "                dict_ROI[times] = {'orin':ORI_i, 'CONF':ORI_i_CONF}\n",
    "            P_i = []\n",
    "            for t in range(3):\n",
    "                P_i.append(float(_frame_data.pop(0)))\n",
    "            P_i_CONF = int(_frame_data.pop(0))\n",
    "            dict_P[times] = {'coor':P_i, 'CONF':P_i_CONF}         \n",
    "        dict_frames[frame_ID] = {'ROI':dict_ROI, 'P':dict_P}\n",
    "    dict_ten_digit[path]['frames'] = dict_frames\n",
    "    "
   ]
  },
  {
   "cell_type": "markdown",
   "metadata": {},
   "source": [
    "Get labeling information and put them into **dict_ten_digit** after getting keypoints label"
   ]
  },
  {
   "cell_type": "code",
   "execution_count": null,
   "metadata": {},
   "outputs": [],
   "source": [
    "dict_labeling = {}\n",
    "for Subject in anno_folder_list:\n",
    "    for high_level_activity in high_level_activities_list:\n",
    "        anno_files_folder = data_dicts + '/' + Subject + '/' + high_level_activity\n",
    "        \n",
    "        labeling = anno_files_folder + '/' + 'labeling.txt'\n",
    "        f = open(labeling, 'r')\n",
    "        my_txt = [txtline[:-1].split(',') for txtline in f.readlines()]\n",
    "        f.close()\n",
    "        for _list in my_txt:\n",
    "            ten_digit = _list[0]\n",
    "            sub_activity = _list[3]\n",
    "            inframe = _list[1:2]"
   ]
  },
  {
   "cell_type": "markdown",
   "metadata": {},
   "source": [
    "Writing to a json file to store the dictionary style data"
   ]
  },
  {
   "cell_type": "code",
   "execution_count": 18,
   "metadata": {},
   "outputs": [],
   "source": [
    "import json\n",
    "with open('./data2.json', 'w') as json_file:\n",
    "    json.dump(dict_ten_digit, json_file, indent=4)\n",
    "json_file.close()"
   ]
  },
  {
   "cell_type": "markdown",
   "metadata": {},
   "source": [
    "****************************"
   ]
  },
  {
   "cell_type": "code",
   "execution_count": null,
   "metadata": {},
   "outputs": [],
   "source": []
  }
 ],
 "metadata": {
  "kernelspec": {
   "display_name": "Python 3",
   "language": "python",
   "name": "python3"
  },
  "language_info": {
   "codemirror_mode": {
    "name": "ipython",
    "version": 3
   },
   "file_extension": ".py",
   "mimetype": "text/x-python",
   "name": "python",
   "nbconvert_exporter": "python",
   "pygments_lexer": "ipython3",
   "version": "3.7.0"
  }
 },
 "nbformat": 4,
 "nbformat_minor": 2
}
