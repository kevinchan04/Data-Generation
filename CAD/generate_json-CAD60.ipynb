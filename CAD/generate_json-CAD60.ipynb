{
 "cells": [
  {
   "cell_type": "code",
   "execution_count": 2,
   "metadata": {},
   "outputs": [],
   "source": [
    "import numpy as np\n",
    "import pandas as pd"
   ]
  },
  {
   "cell_type": "code",
   "execution_count": 3,
   "metadata": {},
   "outputs": [],
   "source": [
    "data_dicts = r\"/home/ubuntu/PyTorch-YOLOv3/data/custom/images/CAD-60\""
   ]
  },
  {
   "cell_type": "code",
   "execution_count": 4,
   "metadata": {},
   "outputs": [],
   "source": [
    "import os\n",
    "dicts_list = [name for name in os.listdir(data_dicts) if not name.endswith('.zip') and name.startswith('data')]"
   ]
  },
  {
   "cell_type": "code",
   "execution_count": 5,
   "metadata": {},
   "outputs": [
    {
     "data": {
      "text/plain": [
       "['data4', 'data2', 'data3', 'data1']"
      ]
     },
     "execution_count": 5,
     "metadata": {},
     "output_type": "execute_result"
    }
   ],
   "source": [
    "dicts_list"
   ]
  },
  {
   "cell_type": "markdown",
   "metadata": {},
   "source": [
    "Get image folders and label txt files"
   ]
  },
  {
   "cell_type": "code",
   "execution_count": 6,
   "metadata": {},
   "outputs": [
    {
     "name": "stdout",
     "output_type": "stream",
     "text": [
      "{'0512151934': ['/home/ubuntu/PyTorch-YOLOv3/data/custom/images/CAD-60/data4/0512151934', '/home/ubuntu/PyTorch-YOLOv3/data/custom/images/CAD-60/data4/0512151934.txt'], '0512160254': ['/home/ubuntu/PyTorch-YOLOv3/data/custom/images/CAD-60/data4/0512160254', '/home/ubuntu/PyTorch-YOLOv3/data/custom/images/CAD-60/data4/0512160254.txt'], '0512152416': ['/home/ubuntu/PyTorch-YOLOv3/data/custom/images/CAD-60/data4/0512152416', '/home/ubuntu/PyTorch-YOLOv3/data/custom/images/CAD-60/data4/0512152416.txt'], '0512150451': ['/home/ubuntu/PyTorch-YOLOv3/data/custom/images/CAD-60/data4/0512150451', '/home/ubuntu/PyTorch-YOLOv3/data/custom/images/CAD-60/data4/0512150451.txt'], '0512155226': ['/home/ubuntu/PyTorch-YOLOv3/data/custom/images/CAD-60/data4/0512155226', '/home/ubuntu/PyTorch-YOLOv3/data/custom/images/CAD-60/data4/0512155226.txt'], '0512152013': ['/home/ubuntu/PyTorch-YOLOv3/data/custom/images/CAD-60/data4/0512152013', '/home/ubuntu/PyTorch-YOLOv3/data/custom/images/CAD-60/data4/0512152013.txt'], '0512152943': ['/home/ubuntu/PyTorch-YOLOv3/data/custom/images/CAD-60/data4/0512152943', '/home/ubuntu/PyTorch-YOLOv3/data/custom/images/CAD-60/data4/0512152943.txt'], '0512160143': ['/home/ubuntu/PyTorch-YOLOv3/data/custom/images/CAD-60/data4/0512160143', '/home/ubuntu/PyTorch-YOLOv3/data/custom/images/CAD-60/data4/0512160143.txt'], '0512150912': ['/home/ubuntu/PyTorch-YOLOv3/data/custom/images/CAD-60/data4/0512150912', '/home/ubuntu/PyTorch-YOLOv3/data/custom/images/CAD-60/data4/0512150912.txt'], '0512153758': ['/home/ubuntu/PyTorch-YOLOv3/data/custom/images/CAD-60/data4/0512153758', '/home/ubuntu/PyTorch-YOLOv3/data/custom/images/CAD-60/data4/0512153758.txt'], '0512154740': ['/home/ubuntu/PyTorch-YOLOv3/data/custom/images/CAD-60/data4/0512154740', '/home/ubuntu/PyTorch-YOLOv3/data/custom/images/CAD-60/data4/0512154740.txt'], '0512150222': ['/home/ubuntu/PyTorch-YOLOv3/data/custom/images/CAD-60/data4/0512150222', '/home/ubuntu/PyTorch-YOLOv3/data/custom/images/CAD-60/data4/0512150222.txt'], '0512154505': ['/home/ubuntu/PyTorch-YOLOv3/data/custom/images/CAD-60/data4/0512154505', '/home/ubuntu/PyTorch-YOLOv3/data/custom/images/CAD-60/data4/0512154505.txt'], '0512151444': ['/home/ubuntu/PyTorch-YOLOv3/data/custom/images/CAD-60/data4/0512151444', '/home/ubuntu/PyTorch-YOLOv3/data/custom/images/CAD-60/data4/0512151444.txt'], '0512151857': ['/home/ubuntu/PyTorch-YOLOv3/data/custom/images/CAD-60/data4/0512151857', '/home/ubuntu/PyTorch-YOLOv3/data/custom/images/CAD-60/data4/0512151857.txt'], '0512155606': ['/home/ubuntu/PyTorch-YOLOv3/data/custom/images/CAD-60/data4/0512155606', '/home/ubuntu/PyTorch-YOLOv3/data/custom/images/CAD-60/data4/0512155606.txt'], '0512151230': ['/home/ubuntu/PyTorch-YOLOv3/data/custom/images/CAD-60/data4/0512151230', '/home/ubuntu/PyTorch-YOLOv3/data/custom/images/CAD-60/data4/0512151230.txt'], '0510163840': ['/home/ubuntu/PyTorch-YOLOv3/data/custom/images/CAD-60/data2/0510163840', '/home/ubuntu/PyTorch-YOLOv3/data/custom/images/CAD-60/data2/0510163840.txt'], '0510163444': ['/home/ubuntu/PyTorch-YOLOv3/data/custom/images/CAD-60/data2/0510163444', '/home/ubuntu/PyTorch-YOLOv3/data/custom/images/CAD-60/data2/0510163444.txt'], '0510163513': ['/home/ubuntu/PyTorch-YOLOv3/data/custom/images/CAD-60/data2/0510163513', '/home/ubuntu/PyTorch-YOLOv3/data/custom/images/CAD-60/data2/0510163513.txt'], '0510170707': ['/home/ubuntu/PyTorch-YOLOv3/data/custom/images/CAD-60/data2/0510170707', '/home/ubuntu/PyTorch-YOLOv3/data/custom/images/CAD-60/data2/0510170707.txt'], '0510162821': ['/home/ubuntu/PyTorch-YOLOv3/data/custom/images/CAD-60/data2/0510162821', '/home/ubuntu/PyTorch-YOLOv3/data/custom/images/CAD-60/data2/0510162821.txt'], '0510171427': ['/home/ubuntu/PyTorch-YOLOv3/data/custom/images/CAD-60/data2/0510171427', '/home/ubuntu/PyTorch-YOLOv3/data/custom/images/CAD-60/data2/0510171427.txt'], '0510164621': ['/home/ubuntu/PyTorch-YOLOv3/data/custom/images/CAD-60/data2/0510164621', '/home/ubuntu/PyTorch-YOLOv3/data/custom/images/CAD-60/data2/0510164621.txt'], '0510165136': ['/home/ubuntu/PyTorch-YOLOv3/data/custom/images/CAD-60/data2/0510165136', '/home/ubuntu/PyTorch-YOLOv3/data/custom/images/CAD-60/data2/0510165136.txt'], '0510162529': ['/home/ubuntu/PyTorch-YOLOv3/data/custom/images/CAD-60/data2/0510162529', '/home/ubuntu/PyTorch-YOLOv3/data/custom/images/CAD-60/data2/0510162529.txt'], '0510161326': ['/home/ubuntu/PyTorch-YOLOv3/data/custom/images/CAD-60/data2/0510161326', '/home/ubuntu/PyTorch-YOLOv3/data/custom/images/CAD-60/data2/0510161326.txt'], '0510171507': ['/home/ubuntu/PyTorch-YOLOv3/data/custom/images/CAD-60/data2/0510171507', '/home/ubuntu/PyTorch-YOLOv3/data/custom/images/CAD-60/data2/0510171507.txt'], '0510163542': ['/home/ubuntu/PyTorch-YOLOv3/data/custom/images/CAD-60/data2/0510163542', '/home/ubuntu/PyTorch-YOLOv3/data/custom/images/CAD-60/data2/0510163542.txt'], '0510161658': ['/home/ubuntu/PyTorch-YOLOv3/data/custom/images/CAD-60/data2/0510161658', '/home/ubuntu/PyTorch-YOLOv3/data/custom/images/CAD-60/data2/0510161658.txt'], '0510160858': ['/home/ubuntu/PyTorch-YOLOv3/data/custom/images/CAD-60/data2/0510160858', '/home/ubuntu/PyTorch-YOLOv3/data/custom/images/CAD-60/data2/0510160858.txt'], '0510164129': ['/home/ubuntu/PyTorch-YOLOv3/data/custom/images/CAD-60/data2/0510164129', '/home/ubuntu/PyTorch-YOLOv3/data/custom/images/CAD-60/data2/0510164129.txt'], '0510165514': ['/home/ubuntu/PyTorch-YOLOv3/data/custom/images/CAD-60/data2/0510165514', '/home/ubuntu/PyTorch-YOLOv3/data/custom/images/CAD-60/data2/0510165514.txt'], '0510171120': ['/home/ubuntu/PyTorch-YOLOv3/data/custom/images/CAD-60/data2/0510171120', '/home/ubuntu/PyTorch-YOLOv3/data/custom/images/CAD-60/data2/0510171120.txt'], '0511121410': ['/home/ubuntu/PyTorch-YOLOv3/data/custom/images/CAD-60/data3/0511121410', '/home/ubuntu/PyTorch-YOLOv3/data/custom/images/CAD-60/data3/0511121410.txt'], '0511131018': ['/home/ubuntu/PyTorch-YOLOv3/data/custom/images/CAD-60/data3/0511131018', '/home/ubuntu/PyTorch-YOLOv3/data/custom/images/CAD-60/data3/0511131018.txt'], '0511121954': ['/home/ubuntu/PyTorch-YOLOv3/data/custom/images/CAD-60/data3/0511121954', '/home/ubuntu/PyTorch-YOLOv3/data/custom/images/CAD-60/data3/0511121954.txt'], '0511124349': ['/home/ubuntu/PyTorch-YOLOv3/data/custom/images/CAD-60/data3/0511124349', '/home/ubuntu/PyTorch-YOLOv3/data/custom/images/CAD-60/data3/0511124349.txt'], '0511125200': ['/home/ubuntu/PyTorch-YOLOv3/data/custom/images/CAD-60/data3/0511125200', '/home/ubuntu/PyTorch-YOLOv3/data/custom/images/CAD-60/data3/0511125200.txt'], '0511124101': ['/home/ubuntu/PyTorch-YOLOv3/data/custom/images/CAD-60/data3/0511124101', '/home/ubuntu/PyTorch-YOLOv3/data/custom/images/CAD-60/data3/0511124101.txt'], '0511123806': ['/home/ubuntu/PyTorch-YOLOv3/data/custom/images/CAD-60/data3/0511123806', '/home/ubuntu/PyTorch-YOLOv3/data/custom/images/CAD-60/data3/0511123806.txt'], '0511130920': ['/home/ubuntu/PyTorch-YOLOv3/data/custom/images/CAD-60/data3/0511130920', '/home/ubuntu/PyTorch-YOLOv3/data/custom/images/CAD-60/data3/0511130920.txt'], '0511130523': ['/home/ubuntu/PyTorch-YOLOv3/data/custom/images/CAD-60/data3/0511130523', '/home/ubuntu/PyTorch-YOLOv3/data/custom/images/CAD-60/data3/0511130523.txt'], '0511122813': ['/home/ubuntu/PyTorch-YOLOv3/data/custom/images/CAD-60/data3/0511122813', '/home/ubuntu/PyTorch-YOLOv3/data/custom/images/CAD-60/data3/0511122813.txt'], '0511122214': ['/home/ubuntu/PyTorch-YOLOv3/data/custom/images/CAD-60/data3/0511122214', '/home/ubuntu/PyTorch-YOLOv3/data/custom/images/CAD-60/data3/0511122214.txt'], '0511123218': ['/home/ubuntu/PyTorch-YOLOv3/data/custom/images/CAD-60/data3/0511123218', '/home/ubuntu/PyTorch-YOLOv3/data/custom/images/CAD-60/data3/0511123218.txt'], '0511130138': ['/home/ubuntu/PyTorch-YOLOv3/data/custom/images/CAD-60/data3/0511130138', '/home/ubuntu/PyTorch-YOLOv3/data/custom/images/CAD-60/data3/0511130138.txt'], '0511121542': ['/home/ubuntu/PyTorch-YOLOv3/data/custom/images/CAD-60/data3/0511121542', '/home/ubuntu/PyTorch-YOLOv3/data/custom/images/CAD-60/data3/0511121542.txt'], '0511124850': ['/home/ubuntu/PyTorch-YOLOv3/data/custom/images/CAD-60/data3/0511124850', '/home/ubuntu/PyTorch-YOLOv3/data/custom/images/CAD-60/data3/0511124850.txt'], '0511123142': ['/home/ubuntu/PyTorch-YOLOv3/data/custom/images/CAD-60/data3/0511123142', '/home/ubuntu/PyTorch-YOLOv3/data/custom/images/CAD-60/data3/0511123142.txt'], '0511123238': ['/home/ubuntu/PyTorch-YOLOv3/data/custom/images/CAD-60/data3/0511123238', '/home/ubuntu/PyTorch-YOLOv3/data/custom/images/CAD-60/data3/0511123238.txt'], '0512174930': ['/home/ubuntu/PyTorch-YOLOv3/data/custom/images/CAD-60/data1/0512174930', '/home/ubuntu/PyTorch-YOLOv3/data/custom/images/CAD-60/data1/0512174930.txt'], '0512173520': ['/home/ubuntu/PyTorch-YOLOv3/data/custom/images/CAD-60/data1/0512173520', '/home/ubuntu/PyTorch-YOLOv3/data/custom/images/CAD-60/data1/0512173520.txt'], '0512173548': ['/home/ubuntu/PyTorch-YOLOv3/data/custom/images/CAD-60/data1/0512173548', '/home/ubuntu/PyTorch-YOLOv3/data/custom/images/CAD-60/data1/0512173548.txt'], '0512171444': ['/home/ubuntu/PyTorch-YOLOv3/data/custom/images/CAD-60/data1/0512171444', '/home/ubuntu/PyTorch-YOLOv3/data/custom/images/CAD-60/data1/0512171444.txt'], '0512172825': ['/home/ubuntu/PyTorch-YOLOv3/data/custom/images/CAD-60/data1/0512172825', '/home/ubuntu/PyTorch-YOLOv3/data/custom/images/CAD-60/data1/0512172825.txt'], '0512174643': ['/home/ubuntu/PyTorch-YOLOv3/data/custom/images/CAD-60/data1/0512174643', '/home/ubuntu/PyTorch-YOLOv3/data/custom/images/CAD-60/data1/0512174643.txt'], '0512173623': ['/home/ubuntu/PyTorch-YOLOv3/data/custom/images/CAD-60/data1/0512173623', '/home/ubuntu/PyTorch-YOLOv3/data/custom/images/CAD-60/data1/0512173623.txt'], '0512164529': ['/home/ubuntu/PyTorch-YOLOv3/data/custom/images/CAD-60/data1/0512164529', '/home/ubuntu/PyTorch-YOLOv3/data/custom/images/CAD-60/data1/0512164529.txt'], '0512165243': ['/home/ubuntu/PyTorch-YOLOv3/data/custom/images/CAD-60/data1/0512165243', '/home/ubuntu/PyTorch-YOLOv3/data/custom/images/CAD-60/data1/0512165243.txt'], '0512164800': ['/home/ubuntu/PyTorch-YOLOv3/data/custom/images/CAD-60/data1/0512164800', '/home/ubuntu/PyTorch-YOLOv3/data/custom/images/CAD-60/data1/0512164800.txt'], '0512170134': ['/home/ubuntu/PyTorch-YOLOv3/data/custom/images/CAD-60/data1/0512170134', '/home/ubuntu/PyTorch-YOLOv3/data/custom/images/CAD-60/data1/0512170134.txt'], '0512175502': ['/home/ubuntu/PyTorch-YOLOv3/data/custom/images/CAD-60/data1/0512175502', '/home/ubuntu/PyTorch-YOLOv3/data/custom/images/CAD-60/data1/0512175502.txt'], '0512173312': ['/home/ubuntu/PyTorch-YOLOv3/data/custom/images/CAD-60/data1/0512173312', '/home/ubuntu/PyTorch-YOLOv3/data/custom/images/CAD-60/data1/0512173312.txt'], '0512171649': ['/home/ubuntu/PyTorch-YOLOv3/data/custom/images/CAD-60/data1/0512171649', '/home/ubuntu/PyTorch-YOLOv3/data/custom/images/CAD-60/data1/0512171649.txt'], '0512174513': ['/home/ubuntu/PyTorch-YOLOv3/data/custom/images/CAD-60/data1/0512174513', '/home/ubuntu/PyTorch-YOLOv3/data/custom/images/CAD-60/data1/0512174513.txt'], '0512171207': ['/home/ubuntu/PyTorch-YOLOv3/data/custom/images/CAD-60/data1/0512171207', '/home/ubuntu/PyTorch-YOLOv3/data/custom/images/CAD-60/data1/0512171207.txt'], '0512165327': ['/home/ubuntu/PyTorch-YOLOv3/data/custom/images/CAD-60/data1/0512165327', '/home/ubuntu/PyTorch-YOLOv3/data/custom/images/CAD-60/data1/0512165327.txt']}\n"
     ]
    }
   ],
   "source": [
    "output_paths = {}\n",
    "for _dict in dicts_list:\n",
    "    _folder = data_dicts + '/' + _dict\n",
    "    img_folders = [name for name in os.listdir(_folder) if not name.endswith('.txt') and not name.startswith('README')]\n",
    "    for _img_folder in img_folders:\n",
    "        img_folder = _folder + '/' + _img_folder\n",
    "        _label_txt = img_folder + '.txt'\n",
    "        try:\n",
    "            t = open(_label_txt, 'r')\n",
    "            t.close()\n",
    "        except:\n",
    "            continue\n",
    "        output_paths[_img_folder] = [img_folder, _label_txt]\n",
    "print(output_paths)"
   ]
  },
  {
   "cell_type": "markdown",
   "metadata": {},
   "source": [
    "Get person ID and the corresponding action label str"
   ]
  },
  {
   "cell_type": "code",
   "execution_count": 10,
   "metadata": {
    "scrolled": true
   },
   "outputs": [],
   "source": [
    "dict_label = {}\n",
    "for t, _dict in enumerate(dicts_list):\n",
    "    _folder = data_dicts + '/' + _dict\n",
    "    act_txt = [name for name in os.listdir(_folder) if name.startswith('activity')]\n",
    "    act_txt = _folder + '/' + act_txt[0]\n",
    "    label = open(act_txt, 'r')\n",
    "    my_txt = [txtline[:].split(',') for txtline in label.readlines()]\n",
    "    label.close()\n",
    "    for label_data in my_txt[:-1]:\n",
    "        folder_ID = label_data.pop(0)\n",
    "        act_label = label_data.pop(0)\n",
    "        dict_label[folder_ID] = {'person_ID':t+1, 'action_label':act_label}"
   ]
  },
  {
   "cell_type": "markdown",
   "metadata": {},
   "source": [
    "Generate the dictionary which contains all data information"
   ]
  },
  {
   "cell_type": "code",
   "execution_count": 11,
   "metadata": {},
   "outputs": [],
   "source": [
    "dict_folders = {}#folder_ID:dict_folder\n",
    "dict_folder = {}#{person_ID:, dict_frames:, floder_path:, action_label:}\n",
    "dict_frames = {}#frame_1:{dict_ROI, dict_P}, frame_2:{dict_ROI, dict_P},...,frame_ID:{dict_ROI, dict_P}\n",
    "dict_ROI = {}#{1:{orin, CONF},2:{},...,11:{}}\n",
    "dict_P = {}#{1:{coor, CONF},2:{},3:{},...15:{}}"
   ]
  },
  {
   "cell_type": "code",
   "execution_count": 12,
   "metadata": {
    "scrolled": true
   },
   "outputs": [],
   "source": [
    "for i, paths in enumerate(output_paths):\n",
    "    dict_folder = {}\n",
    "    _list = output_paths[paths]\n",
    "    folder_path = _list[0]\n",
    "    folder_ID = paths\n",
    "    person_ID = dict_label[paths]['person_ID']\n",
    "    action_label = dict_label[paths]['action_label']\n",
    "    dict_folder['person_ID'] = person_ID\n",
    "    dict_folder['folder_path'] = folder_path\n",
    "    dict_folder['action_label'] = action_label\n",
    "    \n",
    "    _txt = open(_list[1], 'r')\n",
    "    my_txt = [txtline[:-1].split(',') for txtline in _txt.readlines()]\n",
    "    _txt.close()\n",
    "    dict_frames = {}\n",
    "    for _frame_data in my_txt[:-1]:\n",
    "        frame_ID = int(_frame_data.pop(0))\n",
    "        dict_ROI, dict_P = {}, {}\n",
    "        for times in range(15):\n",
    "            if times < 11:\n",
    "                ORI_i = []\n",
    "                for t in range(9):\n",
    "                    ORI_i.append(float(_frame_data.pop(0)))\n",
    "                ORI_i_CONF = int(_frame_data.pop(0))\n",
    "                dict_ROI[times] = {'orin':ORI_i, 'CONF':ORI_i_CONF}\n",
    "            P_i = []\n",
    "            for t in range(3):\n",
    "                P_i.append(float(_frame_data.pop(0)))\n",
    "            P_i_CONF = int(_frame_data.pop(0))\n",
    "            dict_P[times] = {'coor':P_i, 'CONF':P_i_CONF}         \n",
    "        dict_frames[frame_ID] = {'ROI':dict_ROI, 'P':dict_P}\n",
    "    dict_folder['frames'] = dict_frames\n",
    "    dict_folders[paths] = dict_folder"
   ]
  },
  {
   "cell_type": "markdown",
   "metadata": {},
   "source": [
    "Writing to a json file to store the dictionary style data"
   ]
  },
  {
   "cell_type": "code",
   "execution_count": 13,
   "metadata": {},
   "outputs": [],
   "source": [
    "import json\n",
    "with open('./data.json', 'w') as json_file:\n",
    "    json.dump(dict_folders, json_file, indent=4)\n",
    "json_file.close()"
   ]
  },
  {
   "cell_type": "markdown",
   "metadata": {},
   "source": [
    "Evaluate the data"
   ]
  },
  {
   "cell_type": "code",
   "execution_count": 11,
   "metadata": {},
   "outputs": [
    {
     "data": {
      "text/plain": [
       "1637"
      ]
     },
     "execution_count": 11,
     "metadata": {},
     "output_type": "execute_result"
    }
   ],
   "source": [
    "len(dict_folders['0510165136']['frames'])"
   ]
  },
  {
   "cell_type": "code",
   "execution_count": 12,
   "metadata": {},
   "outputs": [
    {
     "data": {
      "text/plain": [
       "4"
      ]
     },
     "execution_count": 12,
     "metadata": {},
     "output_type": "execute_result"
    }
   ],
   "source": [
    "len(dict_folders['0510165136'])"
   ]
  },
  {
   "cell_type": "markdown",
   "metadata": {},
   "source": [
    "****************************"
   ]
  },
  {
   "cell_type": "code",
   "execution_count": null,
   "metadata": {},
   "outputs": [],
   "source": []
  }
 ],
 "metadata": {
  "kernelspec": {
   "display_name": "Python 3",
   "language": "python",
   "name": "python3"
  },
  "language_info": {
   "codemirror_mode": {
    "name": "ipython",
    "version": 3
   },
   "file_extension": ".py",
   "mimetype": "text/x-python",
   "name": "python",
   "nbconvert_exporter": "python",
   "pygments_lexer": "ipython3",
   "version": "3.7.0"
  }
 },
 "nbformat": 4,
 "nbformat_minor": 2
}
