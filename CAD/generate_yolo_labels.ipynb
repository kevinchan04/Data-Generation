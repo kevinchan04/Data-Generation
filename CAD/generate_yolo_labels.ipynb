{
 "cells": [
  {
   "cell_type": "markdown",
   "metadata": {},
   "source": [
    "Load the json dictionary"
   ]
  },
  {
   "cell_type": "code",
   "execution_count": 1,
   "metadata": {},
   "outputs": [],
   "source": [
    "import json"
   ]
  },
  {
   "cell_type": "code",
   "execution_count": 2,
   "metadata": {},
   "outputs": [],
   "source": [
    "from matplotlib import pyplot as plt"
   ]
  },
  {
   "cell_type": "code",
   "execution_count": 3,
   "metadata": {},
   "outputs": [],
   "source": [
    "import cv2"
   ]
  },
  {
   "cell_type": "code",
   "execution_count": 4,
   "metadata": {},
   "outputs": [],
   "source": [
    "import os\n",
    "import random\n",
    "import colorsys"
   ]
  },
  {
   "cell_type": "code",
   "execution_count": 5,
   "metadata": {},
   "outputs": [],
   "source": [
    "with open('./data2.json', 'r') as json_file:\n",
    "    json_dict = json.load(json_file)\n",
    "json_file.close()"
   ]
  },
  {
   "cell_type": "markdown",
   "metadata": {},
   "source": [
    "In `labels` folder, the structure have to as same as the `images` folder"
   ]
  },
  {
   "cell_type": "code",
   "execution_count": 6,
   "metadata": {},
   "outputs": [],
   "source": [
    "def xPixelFromCoords(x,y,z):\n",
    "    kRealWorldXtoZ = 1.122133\n",
    "    kResX = 640\n",
    "    fCoeffX = kResX / kRealWorldXtoZ\n",
    "    return int((fCoeffX * x / z) + (kResX / 2))\n",
    "#     return int(156.8584456124928 + 0.0976862095248 * x - 0.0006444357104 * y + 0.0015715946682 * z)"
   ]
  },
  {
   "cell_type": "code",
   "execution_count": 7,
   "metadata": {},
   "outputs": [],
   "source": [
    "def yPixelFromCoords(x,y,z):\n",
    "    kRealWorldYtoZ = 0.84176\n",
    "    kResY = 480\n",
    "    fCoeffY = kResY / kRealWorldYtoZ\n",
    "    return int((kResY / 2) - (fCoeffY * y / z))\n",
    "#     return int(125.5357201011431 + 0.0002153447766 * x - 0.1184874093530 * y - 0.0022134485957 * z)"
   ]
  },
  {
   "cell_type": "code",
   "execution_count": 8,
   "metadata": {},
   "outputs": [],
   "source": [
    "def vis_bbox(img, bboxes, width, height, label):\n",
    "    num_classes = len(label)\n",
    "    hsv_tuples = [(1.0 * x / num_classes, 1., 1.) for x in range(num_classes)]\n",
    "    colors = list(map(lambda x: colorsys.hsv_to_rgb(*x), hsv_tuples))\n",
    "    colors = list(map(lambda x: (int(x[0] * 255), int(x[1] * 255), int(x[2] * 255)), colors))\n",
    "\n",
    "    random.seed(0)\n",
    "    random.shuffle(colors)\n",
    "    random.seed(None)\n",
    "    img = img * 255\n",
    "    for i, bbox in enumerate(bboxes):\n",
    "        xc = int(bbox[1] * width)\n",
    "        yc = int(bbox[2] * height)\n",
    "        w = int(bbox[3] * width / 2)\n",
    "        h = int(bbox[4] * height / 2)\n",
    "        c1 = (xc - w, yc - h)\n",
    "        c2 = (xc + w, yc + h)\n",
    "        class_ind = bbox[0]\n",
    "        bbox_color = colors[class_ind]\n",
    "        bbox_thick = int(0.6 * (height + width) / 300)\n",
    "        cv2.rectangle(img, c1, c2, bbox_color, bbox_thick)\n",
    "#         print(bbox[0],c1,c2)\n",
    "    return img"
   ]
  },
  {
   "cell_type": "markdown",
   "metadata": {},
   "source": [
    "  Joint number -> Joint name \\\n",
    "     1 -> HEAD \\\n",
    "     2 -> NECK \\\n",
    "     3 -> TORSO \\\n",
    "     4 -> LEFT_SHOULDER \\\n",
    "     5 -> LEFT_ELBOW \\\n",
    "     6 -> RIGHT_SHOULDER \\\n",
    "     7 -> RIGHT_ELBOW \\\n",
    "     8 -> LEFT_HIP \\\n",
    "     9 -> LEFT_KNEE \\\n",
    "    10 -> RIGHT_HIP \\\n",
    "    11 -> RIGHT_KNEE \\\n",
    "    12 -> LEFT_HAND \\\n",
    "    13 -> RIGHT_HAND \\\n",
    "    14 -> LEFT_FOOT \\\n",
    "    15 -> RIGHT_FOOT \\\n",
    " \n",
    " In json file the keypoint begin at 0"
   ]
  },
  {
   "cell_type": "code",
   "execution_count": 9,
   "metadata": {},
   "outputs": [],
   "source": [
    "joint_dict = {\"0\":\"HEAD\",\"1\":\"NECK\",\"2\":\"TORSO\",\"3\":\"LEFT_SHOULDER\",\n",
    "              \"4\":\"LEFT_ELBOW\",\"5\":\"RIGHT_SHOULDER\",\"6\":\"RIGHT_ELBOW\",\n",
    "              \"7\":\"LEFT_HIP\",\"8\":\"LEFT_KNEE\",\"9\":\"RIGHT_HIP\",\"10\":\"RIGHT_KNEE\",\n",
    "              \"11\":\"LEFT_HAND\",\"12\":\"RIGHT_HAND\",\"13\":\"LEFT_FOOT\",\"14\":\"RIGHT_FOOT\"}\n",
    "joint_bbox_dict = {\"0\":80,\"1\":60,\"2\":120,\"3\":60,\n",
    "              \"4\":60,\"5\":60,\"6\":60,\n",
    "              \"7\":50,\"8\":50,\"9\":50,\"10\":50,\n",
    "              \"11\":50,\"12\":50,\"13\":50,\"14\":50}\n",
    "#while CONF == 0, the label will shift away from body"
   ]
  },
  {
   "cell_type": "code",
   "execution_count": 10,
   "metadata": {},
   "outputs": [],
   "source": [
    "keypoints_list = [0,11,12,13,14]"
   ]
  },
  {
   "cell_type": "code",
   "execution_count": 11,
   "metadata": {},
   "outputs": [
    {
     "ename": "KeyboardInterrupt",
     "evalue": "",
     "output_type": "error",
     "traceback": [
      "\u001b[0;31m---------------------------------------------------------------------------\u001b[0m",
      "\u001b[0;31mKeyboardInterrupt\u001b[0m                         Traceback (most recent call last)",
      "\u001b[0;32m<ipython-input-11-b5ace254dcfb>\u001b[0m in \u001b[0;36m<module>\u001b[0;34m\u001b[0m\n\u001b[1;32m     10\u001b[0m         \u001b[0mimage_path\u001b[0m \u001b[0;34m=\u001b[0m \u001b[0mimg_folder_path\u001b[0m \u001b[0;34m+\u001b[0m \u001b[0;34m'/'\u001b[0m \u001b[0;34m+\u001b[0m \u001b[0mRGB_prefix\u001b[0m \u001b[0;34m+\u001b[0m \u001b[0mframeID\u001b[0m \u001b[0;34m+\u001b[0m \u001b[0mRGB_postfix\u001b[0m\u001b[0;34m\u001b[0m\u001b[0m\n\u001b[1;32m     11\u001b[0m         \u001b[0mimage_path_list\u001b[0m\u001b[0;34m.\u001b[0m\u001b[0mappend\u001b[0m\u001b[0;34m(\u001b[0m\u001b[0mimage_path\u001b[0m\u001b[0;34m)\u001b[0m\u001b[0;34m\u001b[0m\u001b[0m\n\u001b[0;32m---> 12\u001b[0;31m         \u001b[0mimg\u001b[0m \u001b[0;34m=\u001b[0m \u001b[0mplt\u001b[0m\u001b[0;34m.\u001b[0m\u001b[0mimread\u001b[0m\u001b[0;34m(\u001b[0m\u001b[0mimage_path\u001b[0m\u001b[0;34m)\u001b[0m\u001b[0;34m\u001b[0m\u001b[0m\n\u001b[0m\u001b[1;32m     13\u001b[0m         \u001b[0mimg_width\u001b[0m \u001b[0;34m=\u001b[0m \u001b[0mimg\u001b[0m\u001b[0;34m.\u001b[0m\u001b[0mshape\u001b[0m\u001b[0;34m[\u001b[0m\u001b[0;36m1\u001b[0m\u001b[0;34m]\u001b[0m \u001b[0;31m#default as 640\u001b[0m\u001b[0;34m\u001b[0m\u001b[0m\n\u001b[1;32m     14\u001b[0m         \u001b[0mimg_height\u001b[0m \u001b[0;34m=\u001b[0m \u001b[0mimg\u001b[0m\u001b[0;34m.\u001b[0m\u001b[0mshape\u001b[0m\u001b[0;34m[\u001b[0m\u001b[0;36m0\u001b[0m\u001b[0;34m]\u001b[0m \u001b[0;31m# default as 480\u001b[0m\u001b[0;34m\u001b[0m\u001b[0m\n",
      "\u001b[0;32m~/anaconda3/envs/pytorch-yolov3/lib/python3.7/site-packages/matplotlib/pyplot.py\u001b[0m in \u001b[0;36mimread\u001b[0;34m(fname, format)\u001b[0m\n\u001b[1;32m   2133\u001b[0m \u001b[0;34m@\u001b[0m\u001b[0mdocstring\u001b[0m\u001b[0;34m.\u001b[0m\u001b[0mcopy\u001b[0m\u001b[0;34m(\u001b[0m\u001b[0mmatplotlib\u001b[0m\u001b[0;34m.\u001b[0m\u001b[0mimage\u001b[0m\u001b[0;34m.\u001b[0m\u001b[0mimread\u001b[0m\u001b[0;34m)\u001b[0m\u001b[0;34m\u001b[0m\u001b[0m\n\u001b[1;32m   2134\u001b[0m \u001b[0;32mdef\u001b[0m \u001b[0mimread\u001b[0m\u001b[0;34m(\u001b[0m\u001b[0mfname\u001b[0m\u001b[0;34m,\u001b[0m \u001b[0mformat\u001b[0m\u001b[0;34m=\u001b[0m\u001b[0;32mNone\u001b[0m\u001b[0;34m)\u001b[0m\u001b[0;34m:\u001b[0m\u001b[0;34m\u001b[0m\u001b[0m\n\u001b[0;32m-> 2135\u001b[0;31m     \u001b[0;32mreturn\u001b[0m \u001b[0mmatplotlib\u001b[0m\u001b[0;34m.\u001b[0m\u001b[0mimage\u001b[0m\u001b[0;34m.\u001b[0m\u001b[0mimread\u001b[0m\u001b[0;34m(\u001b[0m\u001b[0mfname\u001b[0m\u001b[0;34m,\u001b[0m \u001b[0mformat\u001b[0m\u001b[0;34m)\u001b[0m\u001b[0;34m\u001b[0m\u001b[0m\n\u001b[0m\u001b[1;32m   2136\u001b[0m \u001b[0;34m\u001b[0m\u001b[0m\n\u001b[1;32m   2137\u001b[0m \u001b[0;34m\u001b[0m\u001b[0m\n",
      "\u001b[0;32m~/anaconda3/envs/pytorch-yolov3/lib/python3.7/site-packages/matplotlib/image.py\u001b[0m in \u001b[0;36mimread\u001b[0;34m(fname, format)\u001b[0m\n\u001b[1;32m   1432\u001b[0m         \u001b[0;32melse\u001b[0m\u001b[0;34m:\u001b[0m\u001b[0;34m\u001b[0m\u001b[0m\n\u001b[1;32m   1433\u001b[0m             \u001b[0;32mwith\u001b[0m \u001b[0mopen\u001b[0m\u001b[0;34m(\u001b[0m\u001b[0mfname\u001b[0m\u001b[0;34m,\u001b[0m \u001b[0;34m'rb'\u001b[0m\u001b[0;34m)\u001b[0m \u001b[0;32mas\u001b[0m \u001b[0mfd\u001b[0m\u001b[0;34m:\u001b[0m\u001b[0;34m\u001b[0m\u001b[0m\n\u001b[0;32m-> 1434\u001b[0;31m                 \u001b[0;32mreturn\u001b[0m \u001b[0mhandler\u001b[0m\u001b[0;34m(\u001b[0m\u001b[0mfd\u001b[0m\u001b[0;34m)\u001b[0m\u001b[0;34m\u001b[0m\u001b[0m\n\u001b[0m\u001b[1;32m   1435\u001b[0m     \u001b[0;32melse\u001b[0m\u001b[0;34m:\u001b[0m\u001b[0;34m\u001b[0m\u001b[0m\n\u001b[1;32m   1436\u001b[0m         \u001b[0;32mreturn\u001b[0m \u001b[0mhandler\u001b[0m\u001b[0;34m(\u001b[0m\u001b[0mfname\u001b[0m\u001b[0;34m)\u001b[0m\u001b[0;34m\u001b[0m\u001b[0m\n",
      "\u001b[0;32m~/anaconda3/envs/pytorch-yolov3/lib/python3.7/site-packages/matplotlib/image.py\u001b[0m in \u001b[0;36mread_png\u001b[0;34m(*args, **kwargs)\u001b[0m\n\u001b[1;32m   1388\u001b[0m     \u001b[0;32mdef\u001b[0m \u001b[0mread_png\u001b[0m\u001b[0;34m(\u001b[0m\u001b[0;34m*\u001b[0m\u001b[0margs\u001b[0m\u001b[0;34m,\u001b[0m \u001b[0;34m**\u001b[0m\u001b[0mkwargs\u001b[0m\u001b[0;34m)\u001b[0m\u001b[0;34m:\u001b[0m\u001b[0;34m\u001b[0m\u001b[0m\n\u001b[1;32m   1389\u001b[0m         \u001b[0;32mfrom\u001b[0m \u001b[0mmatplotlib\u001b[0m \u001b[0;32mimport\u001b[0m \u001b[0m_png\u001b[0m\u001b[0;34m\u001b[0m\u001b[0m\n\u001b[0;32m-> 1390\u001b[0;31m         \u001b[0;32mreturn\u001b[0m \u001b[0m_png\u001b[0m\u001b[0;34m.\u001b[0m\u001b[0mread_png\u001b[0m\u001b[0;34m(\u001b[0m\u001b[0;34m*\u001b[0m\u001b[0margs\u001b[0m\u001b[0;34m,\u001b[0m \u001b[0;34m**\u001b[0m\u001b[0mkwargs\u001b[0m\u001b[0;34m)\u001b[0m\u001b[0;34m\u001b[0m\u001b[0m\n\u001b[0m\u001b[1;32m   1391\u001b[0m \u001b[0;34m\u001b[0m\u001b[0m\n\u001b[1;32m   1392\u001b[0m     \u001b[0mhandlers\u001b[0m \u001b[0;34m=\u001b[0m \u001b[0;34m{\u001b[0m\u001b[0;34m'png'\u001b[0m\u001b[0;34m:\u001b[0m \u001b[0mread_png\u001b[0m\u001b[0;34m,\u001b[0m \u001b[0;34m}\u001b[0m\u001b[0;34m\u001b[0m\u001b[0m\n",
      "\u001b[0;31mKeyboardInterrupt\u001b[0m: "
     ]
    }
   ],
   "source": [
    "image_path_list = [] #for train.txt and valid.txt\n",
    "for i, ten_int in enumerate(json_dict):\n",
    "    img_folder_path = json_dict[ten_int]['img_folder_path']\n",
    "    img_label_path = img_folder_path.replace(\"images\", \"labels\")\n",
    "    if not os.path.exists(img_label_path):\n",
    "        os.makedirs(img_label_path)\n",
    "    RGB_prefix = 'RGB_'\n",
    "    RGB_postfix = '.png'\n",
    "    for j, frameID in enumerate(json_dict[ten_int]['frames']):\n",
    "        image_path = img_folder_path + '/' + RGB_prefix + frameID + RGB_postfix\n",
    "        image_path_list.append(image_path)\n",
    "        img = plt.imread(image_path)\n",
    "        img_width = img.shape[1] #default as 640\n",
    "        img_height = img.shape[0] # default as 480\n",
    "        joints_dict = json_dict[ten_int]['frames'][frameID]['P']\n",
    "        #create a txt file \n",
    "        txt_file = img_label_path + '/' + RGB_prefix + frameID + '.txt'\n",
    "        f = open(txt_file, 'w')\n",
    "        vis_bboxes = []\n",
    "        for t, jointID in enumerate(joints_dict):\n",
    "            if int(jointID) in keypoints_list:\n",
    "                coor = joints_dict[jointID]['coor']\n",
    "                CONF = joints_dict[jointID]['CONF']\n",
    "                if CONF:\n",
    "                    x = coor[0]\n",
    "                    y = coor[1]\n",
    "                    z = coor[2]\n",
    "                    x_pixel = xPixelFromCoords(x,y,z) #x_c\n",
    "                    y_pixel = yPixelFromCoords(x,y,z) #y_c\n",
    "                    if x_pixel <= img_width and y_pixel <= img_height:\n",
    "        #                 cls = int(jointID) - 1\n",
    "                        cls = keypoints_list.index(int(jointID))\n",
    "                        x_c = x_pixel / img_width\n",
    "                        y_c = y_pixel / img_height\n",
    "                        w = joint_bbox_dict[jointID] / img_width\n",
    "                        h = joint_bbox_dict[jointID] / img_height\n",
    "                        vis_bboxes.append([cls, x_c, y_c, w, h])\n",
    "                        #write to a label txt\n",
    "                        wt = str(cls)+\" \"+str(x_c)+\" \"+str(y_c)+\" \"+str(w)+\" \"+str(h)+\"\\r\"\n",
    "                        f.write(wt)\n",
    "        f.close()\n",
    "#         pic = vis_bbox(img, vis_bboxes, img_width, img_height, keypoints_list)      \n",
    "#         pic = pic / 255\n",
    "#         plt.imshow(pic)\n",
    "#         plt.savefig('./vis/'+frameID+'.png')\n",
    "#         plt.show()"
   ]
  },
  {
   "cell_type": "code",
   "execution_count": null,
   "metadata": {},
   "outputs": [],
   "source": [
    "image_path_list"
   ]
  }
 ],
 "metadata": {
  "kernelspec": {
   "display_name": "Python 3.7.0 64-bit ('pytorch-yolov3': conda)",
   "language": "python",
   "name": "python37064bitpytorchyolov3condaa2c342b8d5724674bba4707a18a551d6"
  },
  "language_info": {
   "codemirror_mode": {
    "name": "ipython",
    "version": 3
   },
   "file_extension": ".py",
   "mimetype": "text/x-python",
   "name": "python",
   "nbconvert_exporter": "python",
   "pygments_lexer": "ipython3",
   "version": "3.7.0"
  }
 },
 "nbformat": 4,
 "nbformat_minor": 4
}
