{
 "cells": [
  {
   "cell_type": "code",
   "execution_count": 1,
   "metadata": {},
   "outputs": [],
   "source": [
    "import scipy.io as sio"
   ]
  },
  {
   "cell_type": "code",
   "execution_count": 2,
   "metadata": {},
   "outputs": [],
   "source": [
    "import numpy as np"
   ]
  },
  {
   "cell_type": "code",
   "execution_count": 3,
   "metadata": {},
   "outputs": [],
   "source": [
    "import cv2"
   ]
  },
  {
   "cell_type": "code",
   "execution_count": 4,
   "metadata": {},
   "outputs": [],
   "source": [
    "from matplotlib import pyplot as plt"
   ]
  },
  {
   "cell_type": "code",
   "execution_count": 5,
   "metadata": {},
   "outputs": [],
   "source": [
    "import random"
   ]
  },
  {
   "cell_type": "code",
   "execution_count": 6,
   "metadata": {},
   "outputs": [],
   "source": [
    "MPII_MAT = r\"/home/ubuntu/ShareFiles/ShareFiles/mpii_human_pose_v1/mpii_human_pose_v1_u12_2/mpii_human_pose_v1_u12_1.mat\""
   ]
  },
  {
   "cell_type": "code",
   "execution_count": 7,
   "metadata": {},
   "outputs": [],
   "source": [
    "MPII_IMG = r\"/home/ubuntu/PyTorch-YOLOv3/data/custom/images\""
   ]
  },
  {
   "cell_type": "code",
   "execution_count": 8,
   "metadata": {},
   "outputs": [],
   "source": [
    "T=sio.loadmat(MPII_MAT, squeeze_me=True, struct_as_record=False)"
   ]
  },
  {
   "cell_type": "code",
   "execution_count": 9,
   "metadata": {},
   "outputs": [],
   "source": [
    "M=T['RELEASE']"
   ]
  },
  {
   "cell_type": "code",
   "execution_count": 10,
   "metadata": {},
   "outputs": [],
   "source": [
    "annots=M.annolist"
   ]
  },
  {
   "cell_type": "code",
   "execution_count": 11,
   "metadata": {},
   "outputs": [],
   "source": [
    "is_train=M.img_train"
   ]
  },
  {
   "cell_type": "code",
   "execution_count": 12,
   "metadata": {},
   "outputs": [],
   "source": [
    "def get_limb_label(point_list, point_select, head_length):\n",
    "    p_ = []\n",
    "    for i in point_select:\n",
    "        for point in point_list:\n",
    "            if i == point[0] and point[-1] == 1:\n",
    "                p_.append([point[1],point[2]])\n",
    "    if len(p_) == len(point_select):\n",
    "        #find minimum and maximum\n",
    "        np_array_ = np.asarray(p_).T\n",
    "        x_max, y_max = np.amax(np_array_,1)[0], np.amax(np_array_,1)[1]\n",
    "        x_min, y_min = np.amin(np_array_,1)[0], np.amin(np_array_,1)[1]\n",
    "        length_half = head_length / 3\n",
    "        x_max += length_half\n",
    "        y_max += length_half\n",
    "        x_min -= length_half\n",
    "        y_min -= length_half\n",
    "        w = x_max - x_min\n",
    "        h = y_max - y_min\n",
    "        x_c = x_min + w / 2\n",
    "        y_c = y_min + h / 2\n",
    "        return x_c, y_c, w, h, 1\n",
    "    else:\n",
    "        return 0,0,0,0,0"
   ]
  },
  {
   "cell_type": "code",
   "execution_count": 13,
   "metadata": {},
   "outputs": [],
   "source": [
    "#shuffle the annots\n",
    "random.shuffle(annots)"
   ]
  },
  {
   "cell_type": "code",
   "execution_count": 14,
   "metadata": {},
   "outputs": [
    {
     "name": "stderr",
     "output_type": "stream",
     "text": [
      "/home/ubuntu/anaconda3/envs/pytorch-yolov3/lib/python3.7/site-packages/ipykernel_launcher.py:32: DeprecationWarning: The truth value of an empty array is ambiguous. Returning False, but in future this will result in an error. Use `array.size > 0` to check that an array is not empty.\n"
     ]
    }
   ],
   "source": [
    "labels_dict = {}\n",
    "for annot_id, annot in enumerate(annots):\n",
    "    is_train_flag = is_train[annot_id]\n",
    "    if is_train_flag == 1:#train:1 test:0.  18079 pics for train 6908 for test\n",
    "        img_name = annot.image.name\n",
    "        try:#train set has three pics disappeared\n",
    "            pic=plt.imread(MPII_IMG+\"/\"+img_name)\n",
    "        except:\n",
    "            continue\n",
    "        img_height = pic.shape[0]\n",
    "        img_width = pic.shape[1]\n",
    "        if 'annorect' in dir(annot):\n",
    "            rects = annot.annorect\n",
    "            if isinstance(rects, sio.matlab.mio5_params.mat_struct):\n",
    "                rects = np.array([rects])\n",
    "                labels_list = []#store labels which includes in one img\n",
    "                for rect in rects:# one img may includes many person(rects)\n",
    "                    try:\n",
    "                        head_x1 = rect.x1\n",
    "                        head_y1 = rect.y1\n",
    "                        head_x2 = rect.x2\n",
    "                        head_y2 = rect.y2\n",
    "                        try:\n",
    "                            points = rect.annopoints.point\n",
    "                        except:\n",
    "                            continue\n",
    "                    except:\n",
    "                        continue\n",
    "                    head_length = head_x2 - head_x1\n",
    "                    point_list = []\n",
    "                    for point in points:\n",
    "                        if point.is_visible in [0,1]:\n",
    "                            is_visible = point.is_visible\n",
    "                        else:\n",
    "                            is_visible = 0\n",
    "                        point_list.append([point.id,point.x,point.y,is_visible])\n",
    "                    #get limbs labels\n",
    "                    limbs_list = [[0,1],[1,2],[3,4],[4,5],[10,11],[11,12],[13,14],[14,15]]\n",
    "                    lower_legs_list = [[0,1],[4,5]]\n",
    "                    upper_legs_list = [[1,2],[3,4]]\n",
    "                    lower_arms_list = [[10,11],[14,15]]\n",
    "                    upper_arms_list = [[11,12],[13,14]]\n",
    "                    for lower_legs in lower_legs_list:\n",
    "                        x_c, y_c, w, h, flag = get_limb_label(point_list, lower_legs, head_length)\n",
    "                        if flag:\n",
    "                            xc = x_c / img_width\n",
    "                            yc = y_c / img_height\n",
    "                            wo = w / img_width\n",
    "                            ho = h / img_height\n",
    "                            cls = 1\n",
    "                            labels_list.append([cls,xc,yc,wo,ho])\n",
    "#                             cv2.rectangle(pic, (int(x_c-w/2),int(y_c-h/2)), (int(x_c+w/2),int(y_c+h/2)), (0,0,255),3)\n",
    "#                             plt.imshow(pic)\n",
    "#                             plt.show()\n",
    "                    for upper_legs in upper_legs_list:\n",
    "                        x_c, y_c, w, h, flag = get_limb_label(point_list, upper_legs, head_length)\n",
    "                        if flag:\n",
    "                            xc = x_c / img_width\n",
    "                            yc = y_c / img_height\n",
    "                            wo = w / img_width\n",
    "                            ho = h / img_height\n",
    "                            cls = 2\n",
    "                            labels_list.append([cls,xc,yc,wo,ho])\n",
    "#                             cv2.rectangle(pic, (int(x_c-w/2),int(y_c-h/2)), (int(x_c+w/2),int(y_c+h/2)), (255,0,0),3)\n",
    "#                             plt.imshow(pic)\n",
    "#                             plt.show()\n",
    "                    for lower_arms in lower_arms_list:\n",
    "                        x_c, y_c, w, h, flag = get_limb_label(point_list, lower_arms, head_length)\n",
    "                        if flag:\n",
    "                            xc = x_c / img_width\n",
    "                            yc = y_c / img_height\n",
    "                            wo = w / img_width\n",
    "                            ho = h / img_height\n",
    "                            cls = 3\n",
    "                            labels_list.append([cls,xc,yc,wo,ho])\n",
    "#                             cv2.rectangle(pic, (int(x_c-w/2),int(y_c-h/2)), (int(x_c+w/2),int(y_c+h/2)), (0,255,0),3)\n",
    "#                             plt.imshow(pic)\n",
    "#                             plt.show()\n",
    "                    for upper_arms in upper_arms_list:\n",
    "                        x_c, y_c, w, h, flag = get_limb_label(point_list, upper_arms, head_length)\n",
    "                        if flag:\n",
    "                            xc = x_c / img_width\n",
    "                            yc = y_c / img_height\n",
    "                            wo = w / img_width\n",
    "                            ho = h / img_height\n",
    "                            cls = 4\n",
    "                            labels_list.append([cls,xc,yc,wo,ho])\n",
    "#                             cv2.rectangle(pic, (int(x_c-w/2),int(y_c-h/2)), (int(x_c+w/2),int(y_c+h/2)), (255,0,255),3)\n",
    "#                             plt.imshow(pic)\n",
    "#                             plt.show()\n",
    "                    #head\n",
    "                    w = head_x2 - head_x1\n",
    "                    h = head_y2 - head_y1\n",
    "                    xc = (head_x1 + w / 2) / img_width\n",
    "                    yc = (head_y1 + h / 2) / img_height\n",
    "                    wo = w / img_width\n",
    "                    ho = h / img_height\n",
    "                    cls = 0\n",
    "                    labels_list.append([cls,xc,yc,wo,ho])\n",
    "#                     cv2.rectangle(pic, (int(head_x1),int(head_y1)), (int(head_x2),int(head_y2)), (128,90,255),3)\n",
    "#                     plt.imshow(pic)\n",
    "#                     plt.show()\n",
    "#                     for limb in limbs_list:\n",
    "#                         x_c, y_c, w, h, flag = get_limb_label(point_list, limb, head_length)\n",
    "#                         if flag:\n",
    "#                             xc = x_c / img_width\n",
    "#                             yc = y_c / img_height\n",
    "#                             wo = w / img_width\n",
    "#                             ho = h / img_height\n",
    "#                             cls = 0\n",
    "#                             labels_list.append([cls,xc,yc,wo,ho])\n",
    "#                             print([x_c, y_c, w, h])\n",
    "#                             cv2.rectangle(pic, (int(x_c-w/2),int(y_c-h/2)), (int(x_c+w/2),int(y_c+h/2)), (0,0,255),3)\n",
    "#                             plt.imshow(pic)\n",
    "#                             plt.show()\n",
    "                if labels_list:\n",
    "                    labels_dict[img_name] = labels_list\n",
    "                        "
   ]
  },
  {
   "cell_type": "code",
   "execution_count": 16,
   "metadata": {},
   "outputs": [],
   "source": [
    "IMG_train_txt = r\"./train.txt\"\n",
    "IMG_valid_txt = r\"./valid.txt\"\n",
    "# LABEL_train = r\"./train\"\n",
    "# LABEL_valid = r\"./valid\"\n",
    "LABEL=r\"./labels\"\n",
    "# LABEL=r\"/home/ubuntu/PyTorch-YOLOv3/data/custom/labels\""
   ]
  },
  {
   "cell_type": "code",
   "execution_count": 17,
   "metadata": {},
   "outputs": [],
   "source": [
    "train_txt = open(IMG_train_txt,'a')\n",
    "valid_txt = open(IMG_valid_txt,'a')"
   ]
  },
  {
   "cell_type": "code",
   "execution_count": 18,
   "metadata": {},
   "outputs": [],
   "source": [
    "def write_label(folder, name, text):\n",
    "    txt = open(folder+'/'+name[:-4]+'.txt','a')\n",
    "    for n in text:\n",
    "        wt_str = \"\"\n",
    "        for item_ in n:\n",
    "            wt_str = wt_str + str(item_) + \" \"\n",
    "        txt.write(wt_str[:-1]+\"\\r\")\n",
    "    txt.close()"
   ]
  },
  {
   "cell_type": "code",
   "execution_count": 20,
   "metadata": {},
   "outputs": [],
   "source": [
    "for_train = 0\n",
    "len_data = len(labels_dict)\n",
    "for img_name, labels_list in labels_dict.items():\n",
    "    if for_train < len_data*0.8:\n",
    "        #open train.txt to store the img path\n",
    "        train_txt.write(MPII_IMG+\"/\"+img_name+\"\\r\")\n",
    "        for_train += 1\n",
    "        write_label(LABEL, img_name, labels_list)\n",
    "    else:\n",
    "        #open val.txt to store the img path\n",
    "        valid_txt.write(MPII_IMG+\"/\"+img_name+\"\\r\")\n",
    "        write_label(LABEL, img_name, labels_list)\n",
    "train_txt.close()\n",
    "valid_txt.close()\n"
   ]
  }
 ],
 "metadata": {
  "kernelspec": {
   "display_name": "Python 3.7.0 64-bit ('pytorch-yolov3': conda)",
   "language": "python",
   "name": "python37064bitpytorchyolov3condaa2c342b8d5724674bba4707a18a551d6"
  },
  "language_info": {
   "codemirror_mode": {
    "name": "ipython",
    "version": 3
   },
   "file_extension": ".py",
   "mimetype": "text/x-python",
   "name": "python",
   "nbconvert_exporter": "python",
   "pygments_lexer": "ipython3",
   "version": "3.7.0"
  }
 },
 "nbformat": 4,
 "nbformat_minor": 4
}
